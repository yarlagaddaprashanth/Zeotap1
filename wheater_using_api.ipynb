{
  "nbformat": 4,
  "nbformat_minor": 0,
  "metadata": {
    "colab": {
      "provenance": [],
      "authorship_tag": "ABX9TyNle4dZbQspRyx6i3YsP1Wn",
      "include_colab_link": true
    },
    "kernelspec": {
      "name": "python3",
      "display_name": "Python 3"
    },
    "language_info": {
      "name": "python"
    }
  },
  "cells": [
    {
      "cell_type": "markdown",
      "metadata": {
        "id": "view-in-github",
        "colab_type": "text"
      },
      "source": [
        "<a href=\"https://colab.research.google.com/github/yarlagaddaprashanth/Zeotap1/blob/main/wheater_using_api.ipynb\" target=\"_parent\"><img src=\"https://colab.research.google.com/assets/colab-badge.svg\" alt=\"Open In Colab\"/></a>"
      ]
    },
    {
      "cell_type": "code",
      "execution_count": null,
      "metadata": {
        "colab": {
          "base_uri": "https://localhost:8080/"
        },
        "id": "b8vCyXZf-lms",
        "outputId": "7ce232de-04e3-4265-b56e-50932715a64e"
      },
      "outputs": [
        {
          "output_type": "stream",
          "name": "stdout",
          "text": [
            "{'coord': {'lon': -0.1257, 'lat': 51.5085}, 'weather': [{'id': 804, 'main': 'Clouds', 'description': 'overcast clouds', 'icon': '04d'}], 'base': 'stations', 'main': {'temp': 288.92, 'feels_like': 288.67, 'temp_min': 288.1, 'temp_max': 289.9, 'pressure': 1010, 'humidity': 81, 'sea_level': 1010, 'grnd_level': 1006}, 'visibility': 10000, 'wind': {'speed': 5.66, 'deg': 220}, 'clouds': {'all': 100}, 'dt': 1729442439, 'sys': {'type': 2, 'id': 2075535, 'country': 'GB', 'sunrise': 1729406002, 'sunset': 1729443406}, 'timezone': 3600, 'id': 2643743, 'name': 'London', 'cod': 200}\n"
          ]
        }
      ],
      "source": [
        "import requests\n",
        "\n",
        "API_KEY = 'b2b9c1aad9bb0b18c82bb298aaec7bab'\n",
        "\n",
        "# Function to get weather data for a specific city in India (e.g., Delhi)\n",
        "def get_weather_data(city='London'):\n",
        "    url = f\"http://api.openweathermap.org/data/2.5/weather?q={city}&appid={API_KEY}\"\n",
        "    response = requests.get(url)\n",
        "    if response.status_code == 200:\n",
        "        return response.json()\n",
        "    else:\n",
        "        print(f\"Error fetching data: {response.status_code}\")\n",
        "        return None\n",
        "\n",
        "# Example of calling the function for Delhi\n",
        "weather_data = get_weather_data()\n",
        "print(weather_data)  # To see the raw weather data response\n"
      ]
    },
    {
      "cell_type": "code",
      "source": [
        "def convert_kelvin_to_celsius(temp_kelvin):\n",
        "    return temp_kelvin - 273.15\n",
        "\n",
        "def process_weather_data(weather_data):\n",
        "    temp_celsius = convert_kelvin_to_celsius(weather_data['main']['temp'])\n",
        "    summary = {\n",
        "        \"temp\": temp_celsius,\n",
        "        \"feels_like\": convert_kelvin_to_celsius(weather_data['main']['feels_like']),\n",
        "        \"weather_condition\": weather_data['weather'][0]['main']\n",
        "    }\n",
        "    return summary\n"
      ],
      "metadata": {
        "id": "gXE6-uCx-s3C"
      },
      "execution_count": null,
      "outputs": []
    },
    {
      "cell_type": "code",
      "source": [
        "import statistics\n",
        "\n",
        "class WeatherRollup:\n",
        "    def __init__(self):\n",
        "        self.temps = []\n",
        "        self.conditions = []\n",
        "\n",
        "    def add_weather(self, weather_summary):\n",
        "        self.temps.append(weather_summary['temp'])\n",
        "        self.conditions.append(weather_summary['weather_condition'])\n",
        "\n",
        "    def daily_summary(self):\n",
        "        return {\n",
        "            \"average_temp\": statistics.mean(self.temps),\n",
        "            \"max_temp\": max(self.temps),\n",
        "            \"min_temp\": min(self.temps),\n",
        "            \"dominant_weather\": max(set(self.conditions), key=self.conditions.count)  # Most frequent condition\n",
        "        }\n"
      ],
      "metadata": {
        "id": "3ktZvaQs-yUl"
      },
      "execution_count": null,
      "outputs": []
    },
    {
      "cell_type": "code",
      "source": [
        "def check_alerts(weather_summary, threshold_temp):\n",
        "    if weather_summary['temp'] > threshold_temp:\n",
        "        print(f\"Alert: Temperature exceeds {threshold_temp}C!\")\n"
      ],
      "metadata": {
        "id": "P3JkYk4p-2YL"
      },
      "execution_count": null,
      "outputs": []
    },
    {
      "cell_type": "code",
      "source": [
        "import requests\n",
        "\n",
        "API_KEY = '8ad1d48a370b17fa209c22c516009955'\n",
        "\n",
        "# Function to get weather data for a specific city in India\n",
        "def get_weather_data(city='Delhi'):\n",
        "    url = f\"http://api.openweathermap.org/data/2.5/weather?q={city}&appid={API_KEY}\"\n",
        "\n",
        "    try:\n",
        "        response = requests.get(url)\n",
        "        # Check if the response status code is 200 (Success)\n",
        "        if response.status_code == 200:\n",
        "            return response.json()\n",
        "        elif response.status_code == 401:\n",
        "            print(\"Error: Invalid API key. Please check your API key.\")\n",
        "        elif response.status_code == 404:\n",
        "            print(f\"Error: City '{city}' not found. Please check the city name.\")\n",
        "        elif response.status_code == 429:\n",
        "            print(\"Error: Too many requests. You've exceeded the API rate limit.\")\n",
        "        else:\n",
        "            print(f\"Error: Failed to fetch data. Status code: {response.status_code}\")\n",
        "    except Exception as e:\n",
        "        print(f\"An error occurred: {e}\")\n",
        "    return None\n",
        "\n",
        "# Example: Fetch weather data for Delhi\n",
        "weather_data = get_weather_data('Delhi')\n",
        "if weather_data:\n",
        "    print(\"Weather data fetched successfully!\")\n",
        "    print(weather_data)\n",
        "else:\n",
        "    print(\"Failed to fetch weather data.\")\n"
      ],
      "metadata": {
        "colab": {
          "base_uri": "https://localhost:8080/"
        },
        "id": "hrpprz50-5uZ",
        "outputId": "fa7db06d-00ac-412d-daca-083874a39e34"
      },
      "execution_count": null,
      "outputs": [
        {
          "output_type": "stream",
          "name": "stdout",
          "text": [
            "Weather data fetched successfully!\n",
            "{'coord': {'lon': 77.2167, 'lat': 28.6667}, 'weather': [{'id': 721, 'main': 'Haze', 'description': 'haze', 'icon': '50n'}], 'base': 'stations', 'main': {'temp': 299.2, 'feels_like': 299.2, 'temp_min': 299.2, 'temp_max': 299.2, 'pressure': 1012, 'humidity': 69, 'sea_level': 1012, 'grnd_level': 987}, 'visibility': 2500, 'wind': {'speed': 1.03, 'deg': 0}, 'clouds': {'all': 0}, 'dt': 1729442700, 'sys': {'type': 1, 'id': 9165, 'country': 'IN', 'sunrise': 1729385697, 'sunset': 1729426592}, 'timezone': 19800, 'id': 1273294, 'name': 'Delhi', 'cod': 200}\n"
          ]
        }
      ]
    },
    {
      "cell_type": "code",
      "source": [
        "!git init\n",
        "!git add README.md\n",
        "!git commit -m \"first commit\"\n",
        "!git branch -M master\n",
        "!git remote add origin https://github.com/yarlagaddaprashanth/Zeotap.git\n",
        "!git push -u origin main\n"
      ],
      "metadata": {
        "id": "0NqgCcmcBLLw",
        "colab": {
          "base_uri": "https://localhost:8080/"
        },
        "outputId": "3a0aaf0a-0caf-43c8-a142-1572be7cdac0"
      },
      "execution_count": null,
      "outputs": [
        {
          "output_type": "stream",
          "name": "stdout",
          "text": [
            "Reinitialized existing Git repository in /content/.git/\n",
            "fatal: pathspec 'README.md' did not match any files\n",
            "Author identity unknown\n",
            "\n",
            "*** Please tell me who you are.\n",
            "\n",
            "Run\n",
            "\n",
            "  git config --global user.email \"you@example.com\"\n",
            "  git config --global user.name \"Your Name\"\n",
            "\n",
            "to set your account's default identity.\n",
            "Omit --global to set the identity only in this repository.\n",
            "\n",
            "fatal: unable to auto-detect email address (got 'root@41ab0573c017.(none)')\n",
            "error: remote origin already exists.\n",
            "error: src refspec main does not match any\n",
            "\u001b[31merror: failed to push some refs to 'https://github.com/yarlagaddaprashanth/Zeotap.git'\n",
            "\u001b[m"
          ]
        }
      ]
    },
    {
      "cell_type": "code",
      "source": [],
      "metadata": {
        "colab": {
          "base_uri": "https://localhost:8080/"
        },
        "id": "jMVpGRuY39T9",
        "outputId": "b3797fcf-e855-4e7b-fc9f-fdf3d04dd73b"
      },
      "execution_count": null,
      "outputs": [
        {
          "output_type": "stream",
          "name": "stdout",
          "text": [
            "fatal: not a git repository (or any of the parent directories): .git\n"
          ]
        }
      ]
    },
    {
      "cell_type": "code",
      "source": [],
      "metadata": {
        "id": "8iy7bue14ANm"
      },
      "execution_count": null,
      "outputs": []
    }
  ]
}